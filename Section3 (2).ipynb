{
 "cells": [
  {
   "cell_type": "code",
   "execution_count": 1,
   "id": "d44831e2",
   "metadata": {},
   "outputs": [],
   "source": [
    "#Here doing addition operation"
   ]
  },
  {
   "cell_type": "code",
   "execution_count": 2,
   "id": "a01daee6",
   "metadata": {},
   "outputs": [
    {
     "data": {
      "text/plain": [
       "5"
      ]
     },
     "execution_count": 2,
     "metadata": {},
     "output_type": "execute_result"
    }
   ],
   "source": [
    "2 + 3\n"
   ]
  },
  {
   "cell_type": "code",
   "execution_count": 3,
   "id": "a8193a9a",
   "metadata": {},
   "outputs": [],
   "source": [
    "#Here doing Substraction operation"
   ]
  },
  {
   "cell_type": "code",
   "execution_count": 4,
   "id": "078059ca",
   "metadata": {},
   "outputs": [
    {
     "data": {
      "text/plain": [
       "-3"
      ]
     },
     "execution_count": 4,
     "metadata": {},
     "output_type": "execute_result"
    }
   ],
   "source": [
    "5 - 8"
   ]
  },
  {
   "cell_type": "code",
   "execution_count": 5,
   "id": "d145b6db",
   "metadata": {},
   "outputs": [
    {
     "data": {
      "text/plain": [
       "8"
      ]
     },
     "execution_count": 5,
     "metadata": {},
     "output_type": "execute_result"
    }
   ],
   "source": [
    "2 * 4  "
   ]
  },
  {
   "cell_type": "code",
   "execution_count": 7,
   "id": "f1ba766e",
   "metadata": {},
   "outputs": [
    {
     "data": {
      "text/plain": [
       "2.0"
      ]
     },
     "execution_count": 7,
     "metadata": {},
     "output_type": "execute_result"
    }
   ],
   "source": [
    "4/2"
   ]
  },
  {
   "cell_type": "code",
   "execution_count": 8,
   "id": "33dccbc0",
   "metadata": {},
   "outputs": [],
   "source": [
    "variables alloaction"
   ]
  },
  {
   "cell_type": "code",
   "execution_count": 9,
   "id": "e1c9e332",
   "metadata": {},
   "outputs": [],
   "source": [
    "x = 6"
   ]
  },
  {
   "cell_type": "code",
   "execution_count": 10,
   "id": "8a829f30",
   "metadata": {},
   "outputs": [
    {
     "data": {
      "text/plain": [
       "6"
      ]
     },
     "execution_count": 10,
     "metadata": {},
     "output_type": "execute_result"
    }
   ],
   "source": [
    "x\n"
   ]
  },
  {
   "cell_type": "code",
   "execution_count": 11,
   "id": "8e972950",
   "metadata": {},
   "outputs": [],
   "source": [
    "income = 100\n",
    "tax_rate = 0.40\n",
    "tax = income * tax_rate"
   ]
  },
  {
   "cell_type": "code",
   "execution_count": 12,
   "id": "640c1d63",
   "metadata": {},
   "outputs": [
    {
     "data": {
      "text/plain": [
       "40.0"
      ]
     },
     "execution_count": 12,
     "metadata": {},
     "output_type": "execute_result"
    }
   ],
   "source": [
    "tax"
   ]
  },
  {
   "cell_type": "code",
   "execution_count": 14,
   "id": "63564d28",
   "metadata": {},
   "outputs": [],
   "source": [
    "String"
   ]
  },
  {
   "cell_type": "code",
   "execution_count": 15,
   "id": "c66a6ea1",
   "metadata": {},
   "outputs": [
    {
     "data": {
      "text/plain": [
       "'this is also a string'"
      ]
     },
     "execution_count": 15,
     "metadata": {},
     "output_type": "execute_result"
    }
   ],
   "source": [
    "'this is also a string'"
   ]
  },
  {
   "cell_type": "code",
   "execution_count": 16,
   "id": "12650b8f",
   "metadata": {},
   "outputs": [
    {
     "name": "stdout",
     "output_type": "stream",
     "text": [
      "hello\n"
     ]
    }
   ],
   "source": [
    "print(\"hello\")"
   ]
  },
  {
   "cell_type": "code",
   "execution_count": 17,
   "id": "a190796b",
   "metadata": {},
   "outputs": [
    {
     "name": "stdout",
     "output_type": "stream",
     "text": [
      "hello \n",
      "world\n",
      "hello \tworld\n"
     ]
    }
   ],
   "source": [
    "print(\"hello \\nworld\")  #trying to print in seq\n",
    "print(\"hello \\tworld\")"
   ]
  },
  {
   "cell_type": "code",
   "execution_count": 18,
   "id": "b55b7b4f",
   "metadata": {},
   "outputs": [
    {
     "data": {
      "text/plain": [
       "5"
      ]
     },
     "execution_count": 18,
     "metadata": {},
     "output_type": "execute_result"
    }
   ],
   "source": [
    "len ('hello')   #checking the length of value"
   ]
  },
  {
   "cell_type": "code",
   "execution_count": 19,
   "id": "d4642a88",
   "metadata": {},
   "outputs": [
    {
     "data": {
      "text/plain": [
       "4"
      ]
     },
     "execution_count": 19,
     "metadata": {},
     "output_type": "execute_result"
    }
   ],
   "source": [
    "len('I am')"
   ]
  },
  {
   "cell_type": "code",
   "execution_count": 20,
   "id": "22c84e60",
   "metadata": {},
   "outputs": [],
   "source": [
    "String Indexing and Slicing"
   ]
  },
  {
   "cell_type": "code",
   "execution_count": 21,
   "id": "8b239829",
   "metadata": {},
   "outputs": [
    {
     "data": {
      "text/plain": [
       "'Hello World'"
      ]
     },
     "execution_count": 21,
     "metadata": {},
     "output_type": "execute_result"
    }
   ],
   "source": [
    "my_string = \"Hello World\"\n",
    "my_string"
   ]
  },
  {
   "cell_type": "code",
   "execution_count": 22,
   "id": "18accdc7",
   "metadata": {},
   "outputs": [
    {
     "data": {
      "text/plain": [
       "'H'"
      ]
     },
     "execution_count": 22,
     "metadata": {},
     "output_type": "execute_result"
    }
   ],
   "source": [
    "\n",
    "my_string[0]"
   ]
  },
  {
   "cell_type": "code",
   "execution_count": 23,
   "id": "2d5a7421",
   "metadata": {},
   "outputs": [
    {
     "data": {
      "text/plain": [
       "'e'"
      ]
     },
     "execution_count": 23,
     "metadata": {},
     "output_type": "execute_result"
    }
   ],
   "source": [
    "\n",
    "my_string[1]"
   ]
  },
  {
   "cell_type": "code",
   "execution_count": 24,
   "id": "b8b483cd",
   "metadata": {},
   "outputs": [
    {
     "data": {
      "text/plain": [
       "'l'"
      ]
     },
     "execution_count": 24,
     "metadata": {},
     "output_type": "execute_result"
    }
   ],
   "source": [
    "\n",
    "my_string[3]"
   ]
  },
  {
   "cell_type": "code",
   "execution_count": 26,
   "id": "621ac80c",
   "metadata": {},
   "outputs": [
    {
     "data": {
      "text/plain": [
       "'asdfgh'"
      ]
     },
     "execution_count": 26,
     "metadata": {},
     "output_type": "execute_result"
    }
   ],
   "source": [
    "mystring = 'asdfgh'\n",
    "mystring"
   ]
  },
  {
   "cell_type": "code",
   "execution_count": 27,
   "id": "ba33326c",
   "metadata": {},
   "outputs": [
    {
     "data": {
      "text/plain": [
       "'dfgh'"
      ]
     },
     "execution_count": 27,
     "metadata": {},
     "output_type": "execute_result"
    }
   ],
   "source": [
    "mystring[2:]"
   ]
  },
  {
   "cell_type": "code",
   "execution_count": 28,
   "id": "4dca721e",
   "metadata": {},
   "outputs": [
    {
     "data": {
      "text/plain": [
       "'fgh'"
      ]
     },
     "execution_count": 28,
     "metadata": {},
     "output_type": "execute_result"
    }
   ],
   "source": [
    "mystring[3:6]"
   ]
  },
  {
   "cell_type": "code",
   "execution_count": 29,
   "id": "32e9cac7",
   "metadata": {},
   "outputs": [
    {
     "data": {
      "text/plain": [
       "'hgfdsa'"
      ]
     },
     "execution_count": 29,
     "metadata": {},
     "output_type": "execute_result"
    }
   ],
   "source": [
    "mystring[::-1]"
   ]
  },
  {
   "cell_type": "code",
   "execution_count": 30,
   "id": "1af6f3cb",
   "metadata": {},
   "outputs": [],
   "source": [
    "String Properties and methods"
   ]
  },
  {
   "cell_type": "code",
   "execution_count": 31,
   "id": "a6c4b2d6",
   "metadata": {},
   "outputs": [],
   "source": [
    "name = \"Sir\""
   ]
  },
  {
   "cell_type": "code",
   "execution_count": 32,
   "id": "746feb74",
   "metadata": {},
   "outputs": [
    {
     "data": {
      "text/plain": [
       "'ir'"
      ]
     },
     "execution_count": 32,
     "metadata": {},
     "output_type": "execute_result"
    }
   ],
   "source": [
    "last_letters = name[1:]\n",
    "last_letters"
   ]
  },
  {
   "cell_type": "code",
   "execution_count": 33,
   "id": "8c8c79ec",
   "metadata": {},
   "outputs": [
    {
     "data": {
      "text/plain": [
       "'hir'"
      ]
     },
     "execution_count": 33,
     "metadata": {},
     "output_type": "execute_result"
    }
   ],
   "source": [
    "'h' + last_letters"
   ]
  },
  {
   "cell_type": "code",
   "execution_count": 34,
   "id": "41fb054b",
   "metadata": {},
   "outputs": [
    {
     "data": {
      "text/plain": [
       "'Hello WorldIt is beatiful Outside!'"
      ]
     },
     "execution_count": 34,
     "metadata": {},
     "output_type": "execute_result"
    }
   ],
   "source": [
    "x= \"Hello World\"\n",
    "x + \"It is beatiful Outside!\""
   ]
  },
  {
   "cell_type": "code",
   "execution_count": 35,
   "id": "3798d8a1",
   "metadata": {},
   "outputs": [
    {
     "data": {
      "text/plain": [
       "'HELLO WORLD'"
      ]
     },
     "execution_count": 35,
     "metadata": {},
     "output_type": "execute_result"
    }
   ],
   "source": [
    "x.upper()"
   ]
  },
  {
   "cell_type": "code",
   "execution_count": 36,
   "id": "6d9280b1",
   "metadata": {},
   "outputs": [
    {
     "data": {
      "text/plain": [
       "'hello world'"
      ]
     },
     "execution_count": 36,
     "metadata": {},
     "output_type": "execute_result"
    }
   ],
   "source": [
    "\n",
    "x.lower()"
   ]
  },
  {
   "cell_type": "code",
   "execution_count": 37,
   "id": "7d96e8a7",
   "metadata": {},
   "outputs": [
    {
     "data": {
      "text/plain": [
       "['Hello', 'World']"
      ]
     },
     "execution_count": 37,
     "metadata": {},
     "output_type": "execute_result"
    }
   ],
   "source": [
    "x.split()"
   ]
  },
  {
   "cell_type": "code",
   "execution_count": 1,
   "id": "74ec2f90",
   "metadata": {},
   "outputs": [],
   "source": [
    "\n",
    "x = 'hello welcome to merck'"
   ]
  },
  {
   "cell_type": "code",
   "execution_count": 2,
   "id": "c2ce364b",
   "metadata": {},
   "outputs": [
    {
     "data": {
      "text/plain": [
       "['hello', 'welcome', 'to', 'merck']"
      ]
     },
     "execution_count": 2,
     "metadata": {},
     "output_type": "execute_result"
    }
   ],
   "source": [
    "x.split()"
   ]
  },
  {
   "cell_type": "code",
   "execution_count": 3,
   "id": "6722e440",
   "metadata": {},
   "outputs": [],
   "source": [
    "#String Formatting"
   ]
  },
  {
   "cell_type": "code",
   "execution_count": 4,
   "id": "3e82fab9",
   "metadata": {},
   "outputs": [
    {
     "name": "stdout",
     "output_type": "stream",
     "text": [
      "This is a good work\n"
     ]
    }
   ],
   "source": [
    "print('This is a good {}'.format('work'))"
   ]
  },
  {
   "cell_type": "code",
   "execution_count": 5,
   "id": "44ca1a4a",
   "metadata": {},
   "outputs": [
    {
     "name": "stdout",
     "output_type": "stream",
     "text": [
      "Hello, her name is Siri\n"
     ]
    }
   ],
   "source": [
    "name = \"Siri\"\n",
    "print(\"Hello, her name is {}\".format(name))"
   ]
  },
  {
   "cell_type": "code",
   "execution_count": 6,
   "id": "6d77d0b4",
   "metadata": {},
   "outputs": [],
   "source": [
    "my_list = [1,2,3]"
   ]
  },
  {
   "cell_type": "code",
   "execution_count": 7,
   "id": "e4b7e9cc",
   "metadata": {},
   "outputs": [],
   "source": [
    "my_list = ['STRING',200,25.2]"
   ]
  },
  {
   "cell_type": "code",
   "execution_count": 8,
   "id": "ccaca6ad",
   "metadata": {},
   "outputs": [
    {
     "data": {
      "text/plain": [
       "3"
      ]
     },
     "execution_count": 8,
     "metadata": {},
     "output_type": "execute_result"
    }
   ],
   "source": [
    "len(my_list)"
   ]
  },
  {
   "cell_type": "code",
   "execution_count": 9,
   "id": "7a288d84",
   "metadata": {},
   "outputs": [],
   "source": [
    "mylist = ['one','two','three']"
   ]
  },
  {
   "cell_type": "code",
   "execution_count": 10,
   "id": "bb7f636f",
   "metadata": {},
   "outputs": [
    {
     "data": {
      "text/plain": [
       "'one'"
      ]
     },
     "execution_count": 10,
     "metadata": {},
     "output_type": "execute_result"
    }
   ],
   "source": [
    "mylist[0]"
   ]
  },
  {
   "cell_type": "code",
   "execution_count": 11,
   "id": "a29e5d11",
   "metadata": {},
   "outputs": [],
   "source": [
    "#Dictionaries"
   ]
  },
  {
   "cell_type": "code",
   "execution_count": 13,
   "id": "b95c8e65",
   "metadata": {},
   "outputs": [
    {
     "data": {
      "text/plain": [
       "{'key1': 'value1', 'key2': 'value2'}"
      ]
     },
     "execution_count": 13,
     "metadata": {},
     "output_type": "execute_result"
    }
   ],
   "source": [
    "my_dict = {'key1' : 'value1','key2' : 'value2'}\n",
    "my_dict"
   ]
  },
  {
   "cell_type": "code",
   "execution_count": 14,
   "id": "c92b9e14",
   "metadata": {},
   "outputs": [
    {
     "data": {
      "text/plain": [
       "'value1'"
      ]
     },
     "execution_count": 14,
     "metadata": {},
     "output_type": "execute_result"
    }
   ],
   "source": [
    "my_dict['key1']"
   ]
  },
  {
   "cell_type": "code",
   "execution_count": 15,
   "id": "07c65bdb",
   "metadata": {},
   "outputs": [],
   "source": [
    "d = {'k1' : 123, 'k2' : [0,1,2], 'k3' :{'insidekey' : 100}}"
   ]
  },
  {
   "cell_type": "code",
   "execution_count": 16,
   "id": "54de6aae",
   "metadata": {},
   "outputs": [
    {
     "data": {
      "text/plain": [
       "{'insidekey': 100}"
      ]
     },
     "execution_count": 16,
     "metadata": {},
     "output_type": "execute_result"
    }
   ],
   "source": [
    "d['k3']"
   ]
  },
  {
   "cell_type": "code",
   "execution_count": 17,
   "id": "4596dd3e",
   "metadata": {},
   "outputs": [],
   "source": [
    "d = {'key1' : ['a', 'b', 'c']}"
   ]
  },
  {
   "cell_type": "code",
   "execution_count": 18,
   "id": "a9c5255a",
   "metadata": {},
   "outputs": [
    {
     "data": {
      "text/plain": [
       "{'key1': ['a', 'b', 'c']}"
      ]
     },
     "execution_count": 18,
     "metadata": {},
     "output_type": "execute_result"
    }
   ],
   "source": [
    "d"
   ]
  },
  {
   "cell_type": "code",
   "execution_count": 19,
   "id": "d68911f1",
   "metadata": {},
   "outputs": [
    {
     "data": {
      "text/plain": [
       "['a', 'b', 'c']"
      ]
     },
     "execution_count": 19,
     "metadata": {},
     "output_type": "execute_result"
    }
   ],
   "source": [
    "my_list = d['key1']\n",
    "my_list"
   ]
  },
  {
   "cell_type": "code",
   "execution_count": 20,
   "id": "a4bead27",
   "metadata": {},
   "outputs": [
    {
     "data": {
      "text/plain": [
       "'c'"
      ]
     },
     "execution_count": 20,
     "metadata": {},
     "output_type": "execute_result"
    }
   ],
   "source": [
    "letter = my_list[2]\n",
    "letter"
   ]
  },
  {
   "cell_type": "code",
   "execution_count": 21,
   "id": "96f7ae88",
   "metadata": {},
   "outputs": [],
   "source": [
    "#Tuples"
   ]
  },
  {
   "cell_type": "code",
   "execution_count": 22,
   "id": "2bad472d",
   "metadata": {},
   "outputs": [
    {
     "data": {
      "text/plain": [
       "tuple"
      ]
     },
     "execution_count": 22,
     "metadata": {},
     "output_type": "execute_result"
    }
   ],
   "source": [
    "t = (1,2,3)\n",
    "type(t)"
   ]
  },
  {
   "cell_type": "code",
   "execution_count": 23,
   "id": "a0f674f4",
   "metadata": {},
   "outputs": [],
   "source": [
    "t = ('one',2)"
   ]
  },
  {
   "cell_type": "code",
   "execution_count": 24,
   "id": "e307746f",
   "metadata": {},
   "outputs": [
    {
     "data": {
      "text/plain": [
       "2"
      ]
     },
     "execution_count": 24,
     "metadata": {},
     "output_type": "execute_result"
    }
   ],
   "source": [
    "t[-1]"
   ]
  },
  {
   "cell_type": "code",
   "execution_count": 26,
   "id": "60531f65",
   "metadata": {},
   "outputs": [],
   "source": [
    "t = ('a','b','c')\n"
   ]
  },
  {
   "cell_type": "code",
   "execution_count": 27,
   "id": "1a094660",
   "metadata": {},
   "outputs": [
    {
     "data": {
      "text/plain": [
       "1"
      ]
     },
     "execution_count": 27,
     "metadata": {},
     "output_type": "execute_result"
    }
   ],
   "source": [
    "t.count('a')"
   ]
  },
  {
   "cell_type": "code",
   "execution_count": 28,
   "id": "867f6551",
   "metadata": {},
   "outputs": [
    {
     "data": {
      "text/plain": [
       "1"
      ]
     },
     "execution_count": 28,
     "metadata": {},
     "output_type": "execute_result"
    }
   ],
   "source": [
    "t.index('b')"
   ]
  },
  {
   "cell_type": "code",
   "execution_count": 29,
   "id": "50d714fa",
   "metadata": {},
   "outputs": [
    {
     "data": {
      "text/plain": [
       "set()"
      ]
     },
     "execution_count": 29,
     "metadata": {},
     "output_type": "execute_result"
    }
   ],
   "source": [
    "myset = set()\n",
    "myset"
   ]
  },
  {
   "cell_type": "code",
   "execution_count": 30,
   "id": "a884839f",
   "metadata": {},
   "outputs": [
    {
     "data": {
      "text/plain": [
       "{1}"
      ]
     },
     "execution_count": 30,
     "metadata": {},
     "output_type": "execute_result"
    }
   ],
   "source": [
    "myset.add(1)\n",
    "myset"
   ]
  },
  {
   "cell_type": "code",
   "execution_count": 31,
   "id": "d42850dc",
   "metadata": {},
   "outputs": [
    {
     "data": {
      "text/plain": [
       "{1, 2}"
      ]
     },
     "execution_count": 31,
     "metadata": {},
     "output_type": "execute_result"
    }
   ],
   "source": [
    "myset.add(2)\n",
    "myset"
   ]
  },
  {
   "cell_type": "code",
   "execution_count": 32,
   "id": "91b81d12",
   "metadata": {},
   "outputs": [],
   "source": [
    "#Boolean"
   ]
  },
  {
   "cell_type": "code",
   "execution_count": 33,
   "id": "c29bd542",
   "metadata": {},
   "outputs": [
    {
     "data": {
      "text/plain": [
       "bool"
      ]
     },
     "execution_count": 33,
     "metadata": {},
     "output_type": "execute_result"
    }
   ],
   "source": [
    "True\n",
    "type(True)"
   ]
  },
  {
   "cell_type": "code",
   "execution_count": 34,
   "id": "730e0207",
   "metadata": {},
   "outputs": [
    {
     "data": {
      "text/plain": [
       "True"
      ]
     },
     "execution_count": 34,
     "metadata": {},
     "output_type": "execute_result"
    }
   ],
   "source": [
    "5>3"
   ]
  },
  {
   "cell_type": "code",
   "execution_count": 35,
   "id": "c54f3eca",
   "metadata": {},
   "outputs": [
    {
     "data": {
      "text/plain": [
       "True"
      ]
     },
     "execution_count": 35,
     "metadata": {},
     "output_type": "execute_result"
    }
   ],
   "source": [
    "1==1"
   ]
  },
  {
   "cell_type": "code",
   "execution_count": 36,
   "id": "3183e8d5",
   "metadata": {},
   "outputs": [
    {
     "data": {
      "text/plain": [
       "False"
      ]
     },
     "execution_count": 36,
     "metadata": {},
     "output_type": "execute_result"
    }
   ],
   "source": [
    "1==9"
   ]
  },
  {
   "cell_type": "code",
   "execution_count": null,
   "id": "3ae27c85",
   "metadata": {},
   "outputs": [],
   "source": []
  }
 ],
 "metadata": {
  "kernelspec": {
   "display_name": "Python 3",
   "language": "python",
   "name": "python3"
  },
  "language_info": {
   "codemirror_mode": {
    "name": "ipython",
    "version": 3
   },
   "file_extension": ".py",
   "mimetype": "text/x-python",
   "name": "python",
   "nbconvert_exporter": "python",
   "pygments_lexer": "ipython3",
   "version": "3.8.8"
  }
 },
 "nbformat": 4,
 "nbformat_minor": 5
}
